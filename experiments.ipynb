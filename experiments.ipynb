{
 "cells": [
  {
   "cell_type": "code",
   "execution_count": 10,
   "id": "5d5d54fc-056a-4b96-8efc-8f019dff19b0",
   "metadata": {
    "execution": {
     "iopub.execute_input": "2025-04-01T07:27:17.954966Z",
     "iopub.status.busy": "2025-04-01T07:27:17.954678Z",
     "iopub.status.idle": "2025-04-01T07:27:17.960118Z",
     "shell.execute_reply": "2025-04-01T07:27:17.959327Z",
     "shell.execute_reply.started": "2025-04-01T07:27:17.954941Z"
    }
   },
   "outputs": [
    {
     "name": "stdout",
     "output_type": "stream",
     "text": [
      "Hello World\n"
     ]
    }
   ],
   "source": [
    "print(\"Hello World\")"
   ]
  },
  {
   "cell_type": "code",
   "execution_count": 11,
   "id": "5d87b220-89c6-400f-a710-cf41393c7749",
   "metadata": {},
   "outputs": [
    {
     "name": "stdout",
     "output_type": "stream",
     "text": [
      "another demo change\n"
     ]
    }
   ],
   "source": [
    "print(\"another demo change\")"
   ]
  },
  {
   "cell_type": "code",
   "execution_count": null,
   "id": "bd81baaa-6dfe-4f12-83c5-758b92b5790b",
   "metadata": {},
   "outputs": [],
   "source": []
  }
 ],
 "metadata": {
  "kernelspec": {
   "display_name": "Python 3 (ipykernel)",
   "language": "python",
   "name": "python3"
  },
  "language_info": {
   "codemirror_mode": {
    "name": "ipython",
    "version": 3
   },
   "file_extension": ".py",
   "mimetype": "text/x-python",
   "name": "python",
   "nbconvert_exporter": "python",
   "pygments_lexer": "ipython3",
   "version": "3.11.7"
  }
 },
 "nbformat": 4,
 "nbformat_minor": 5
}
